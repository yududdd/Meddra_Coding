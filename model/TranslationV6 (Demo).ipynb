{
 "cells": [
  {
   "cell_type": "markdown",
   "metadata": {},
   "source": [
    "## Imports \n",
    "* Please note data loading, preprocessing etc are handled in other python modules. Here is a POC (proof of concept) version for model part."
   ]
  },
  {
   "cell_type": "code",
   "execution_count": 1,
   "metadata": {},
   "outputs": [],
   "source": [
    "import warnings\n",
    "import importlib\n",
    "warnings.filterwarnings('ignore')\n",
    "from loader import Loader\n",
    "from preprocessor import Preprocessor\n",
    "from spliter import Spliter \n",
    "import utils"
   ]
  },
  {
   "cell_type": "code",
   "execution_count": 2,
   "metadata": {},
   "outputs": [
    {
     "name": "stdout",
     "output_type": "stream",
     "text": [
      "2.5.0\n"
     ]
    }
   ],
   "source": [
    "import tensorflow as tf\n",
    "print(tf.__version__)"
   ]
  },
  {
   "cell_type": "code",
   "execution_count": 3,
   "metadata": {},
   "outputs": [],
   "source": [
    "#Constants\n",
    "# file_name = [\"data/ae.sas7bdat\"]\n",
    "# dict_name = [\"data/meddra_dict_v21\",\"data/meddra_dict_v22\", \"data/meddra_dict_v23\"]\n",
    "dict_name = [\"data/meddra_dict_v22\"]"
   ]
  },
  {
   "cell_type": "code",
   "execution_count": 4,
   "metadata": {},
   "outputs": [],
   "source": [
    "loader = Loader(dict_name)"
   ]
  },
  {
   "cell_type": "code",
   "execution_count": 5,
   "metadata": {},
   "outputs": [
    {
     "data": {
      "text/html": [
       "<div>\n",
       "<style scoped>\n",
       "    .dataframe tbody tr th:only-of-type {\n",
       "        vertical-align: middle;\n",
       "    }\n",
       "\n",
       "    .dataframe tbody tr th {\n",
       "        vertical-align: top;\n",
       "    }\n",
       "\n",
       "    .dataframe thead th {\n",
       "        text-align: right;\n",
       "    }\n",
       "</style>\n",
       "<table border=\"1\" class=\"dataframe\">\n",
       "  <thead>\n",
       "    <tr style=\"text-align: right;\">\n",
       "      <th></th>\n",
       "      <th>Verbatim Term</th>\n",
       "      <th>LLT Name</th>\n",
       "      <th>Version</th>\n",
       "    </tr>\n",
       "  </thead>\n",
       "  <tbody>\n",
       "    <tr>\n",
       "      <th>0</th>\n",
       "      <td>contact dermatitis</td>\n",
       "      <td>contact dermatitis</td>\n",
       "      <td>17.0</td>\n",
       "    </tr>\n",
       "    <tr>\n",
       "      <th>1</th>\n",
       "      <td>cataracts</td>\n",
       "      <td>cataracts</td>\n",
       "      <td>17.0</td>\n",
       "    </tr>\n",
       "    <tr>\n",
       "      <th>2</th>\n",
       "      <td>occasional lightheadedness</td>\n",
       "      <td>lightheadedness</td>\n",
       "      <td>17.0</td>\n",
       "    </tr>\n",
       "    <tr>\n",
       "      <th>3</th>\n",
       "      <td>occassional neurologic dizziness</td>\n",
       "      <td>dizziness</td>\n",
       "      <td>17.0</td>\n",
       "    </tr>\n",
       "    <tr>\n",
       "      <th>4</th>\n",
       "      <td>swollen lymph nodes bilateral neck</td>\n",
       "      <td>swollen lymph nodes</td>\n",
       "      <td>17.0</td>\n",
       "    </tr>\n",
       "    <tr>\n",
       "      <th>...</th>\n",
       "      <td>...</td>\n",
       "      <td>...</td>\n",
       "      <td>...</td>\n",
       "    </tr>\n",
       "    <tr>\n",
       "      <th>32768</th>\n",
       "      <td>right hemicolectomy</td>\n",
       "      <td>right hemicolectomy</td>\n",
       "      <td>23.0</td>\n",
       "    </tr>\n",
       "    <tr>\n",
       "      <th>32769</th>\n",
       "      <td>hepatic lobectomy</td>\n",
       "      <td>liver lobectomy</td>\n",
       "      <td>23.0</td>\n",
       "    </tr>\n",
       "    <tr>\n",
       "      <th>32770</th>\n",
       "      <td>colon biopsy</td>\n",
       "      <td>colon biopsy</td>\n",
       "      <td>23.0</td>\n",
       "    </tr>\n",
       "    <tr>\n",
       "      <th>32771</th>\n",
       "      <td>laparoscopic low anterior resection</td>\n",
       "      <td>lower anterior resection</td>\n",
       "      <td>23.0</td>\n",
       "    </tr>\n",
       "    <tr>\n",
       "      <th>32772</th>\n",
       "      <td>cat scan guided biopsy</td>\n",
       "      <td>biopsy lung</td>\n",
       "      <td>23.0</td>\n",
       "    </tr>\n",
       "  </tbody>\n",
       "</table>\n",
       "<p>32773 rows × 3 columns</p>\n",
       "</div>"
      ],
      "text/plain": [
       "                             Verbatim Term                  LLT Name  Version\n",
       "0                       contact dermatitis        contact dermatitis     17.0\n",
       "1                                cataracts                 cataracts     17.0\n",
       "2               occasional lightheadedness           lightheadedness     17.0\n",
       "3         occassional neurologic dizziness                 dizziness     17.0\n",
       "4       swollen lymph nodes bilateral neck       swollen lymph nodes     17.0\n",
       "...                                    ...                       ...      ...\n",
       "32768                  right hemicolectomy       right hemicolectomy     23.0\n",
       "32769                    hepatic lobectomy           liver lobectomy     23.0\n",
       "32770                         colon biopsy              colon biopsy     23.0\n",
       "32771  laparoscopic low anterior resection  lower anterior resection     23.0\n",
       "32772               cat scan guided biopsy               biopsy lung     23.0\n",
       "\n",
       "[32773 rows x 3 columns]"
      ]
     },
     "execution_count": 5,
     "metadata": {},
     "output_type": "execute_result"
    }
   ],
   "source": [
    "loader.rawdf"
   ]
  },
  {
   "cell_type": "code",
   "execution_count": 6,
   "metadata": {},
   "outputs": [],
   "source": [
    "processor = Preprocessor(loader.rawdf, loader.dict)"
   ]
  },
  {
   "cell_type": "code",
   "execution_count": 7,
   "metadata": {},
   "outputs": [],
   "source": [
    "medra,raw = processor.pipe_line()"
   ]
  },
  {
   "cell_type": "code",
   "execution_count": 8,
   "metadata": {
    "scrolled": true
   },
   "outputs": [
    {
     "data": {
      "text/html": [
       "<div>\n",
       "<style scoped>\n",
       "    .dataframe tbody tr th:only-of-type {\n",
       "        vertical-align: middle;\n",
       "    }\n",
       "\n",
       "    .dataframe tbody tr th {\n",
       "        vertical-align: top;\n",
       "    }\n",
       "\n",
       "    .dataframe thead th {\n",
       "        text-align: right;\n",
       "    }\n",
       "</style>\n",
       "<table border=\"1\" class=\"dataframe\">\n",
       "  <thead>\n",
       "    <tr style=\"text-align: right;\">\n",
       "      <th></th>\n",
       "      <th>TERM</th>\n",
       "      <th>LLT</th>\n",
       "    </tr>\n",
       "  </thead>\n",
       "  <tbody>\n",
       "    <tr>\n",
       "      <th>0</th>\n",
       "      <td>contact dermatitis</td>\n",
       "      <td>contact dermatitis</td>\n",
       "    </tr>\n",
       "    <tr>\n",
       "      <th>1</th>\n",
       "      <td>cataract</td>\n",
       "      <td>cataracts</td>\n",
       "    </tr>\n",
       "    <tr>\n",
       "      <th>2</th>\n",
       "      <td>occasional lightheadedness</td>\n",
       "      <td>lightheadedness</td>\n",
       "    </tr>\n",
       "    <tr>\n",
       "      <th>3</th>\n",
       "      <td>occassional neurologic dizziness</td>\n",
       "      <td>dizziness</td>\n",
       "    </tr>\n",
       "    <tr>\n",
       "      <th>4</th>\n",
       "      <td>swollen lymph node bilateral neck</td>\n",
       "      <td>swollen lymph nodes</td>\n",
       "    </tr>\n",
       "    <tr>\n",
       "      <th>...</th>\n",
       "      <td>...</td>\n",
       "      <td>...</td>\n",
       "    </tr>\n",
       "    <tr>\n",
       "      <th>32638</th>\n",
       "      <td>abdominal hysterectomy</td>\n",
       "      <td>abdominal hysterectomy</td>\n",
       "    </tr>\n",
       "    <tr>\n",
       "      <th>32639</th>\n",
       "      <td>right hemicolectomy</td>\n",
       "      <td>right hemicolectomy</td>\n",
       "    </tr>\n",
       "    <tr>\n",
       "      <th>32640</th>\n",
       "      <td>hepatic lobectomy</td>\n",
       "      <td>liver lobectomy</td>\n",
       "    </tr>\n",
       "    <tr>\n",
       "      <th>32641</th>\n",
       "      <td>colon biopsy</td>\n",
       "      <td>colon biopsy</td>\n",
       "    </tr>\n",
       "    <tr>\n",
       "      <th>32642</th>\n",
       "      <td>cat scan guided biopsy</td>\n",
       "      <td>biopsy lung</td>\n",
       "    </tr>\n",
       "  </tbody>\n",
       "</table>\n",
       "<p>32643 rows × 2 columns</p>\n",
       "</div>"
      ],
      "text/plain": [
       "                                    TERM                     LLT\n",
       "0                     contact dermatitis      contact dermatitis\n",
       "1                               cataract               cataracts\n",
       "2             occasional lightheadedness         lightheadedness\n",
       "3       occassional neurologic dizziness               dizziness\n",
       "4      swollen lymph node bilateral neck     swollen lymph nodes\n",
       "...                                  ...                     ...\n",
       "32638             abdominal hysterectomy  abdominal hysterectomy\n",
       "32639                right hemicolectomy     right hemicolectomy\n",
       "32640                  hepatic lobectomy         liver lobectomy\n",
       "32641                       colon biopsy            colon biopsy\n",
       "32642             cat scan guided biopsy             biopsy lung\n",
       "\n",
       "[32643 rows x 2 columns]"
      ]
     },
     "execution_count": 8,
     "metadata": {},
     "output_type": "execute_result"
    }
   ],
   "source": [
    "raw"
   ]
  },
  {
   "cell_type": "code",
   "execution_count": 9,
   "metadata": {},
   "outputs": [],
   "source": [
    "X_train, X_test, Y_train, Y_test, X_ls, X_testls = Spliter(raw, medra).get_train_test()"
   ]
  },
  {
   "cell_type": "code",
   "execution_count": 10,
   "metadata": {},
   "outputs": [
    {
     "data": {
      "text/plain": [
       "0              exacerbation herpes simplex\n",
       "1           painful - l foot joint big toe\n",
       "2         high creatinine level 106 umol l\n",
       "3            absent reflex lower extremity\n",
       "4        interstitial nodular opacity lung\n",
       "                       ...                \n",
       "30026                        uti infection\n",
       "30027                     burnt right hand\n",
       "30028                       hypomagnasemia\n",
       "30029                            sore limb\n",
       "30030                   allergy penicillin\n",
       "Name: TERM, Length: 30031, dtype: object"
      ]
     },
     "execution_count": 10,
     "metadata": {},
     "output_type": "execute_result"
    }
   ],
   "source": [
    "X_train"
   ]
  },
  {
   "cell_type": "code",
   "execution_count": 11,
   "metadata": {
    "scrolled": false
   },
   "outputs": [
    {
     "data": {
      "text/plain": [
       "((30031,), (2612,))"
      ]
     },
     "execution_count": 11,
     "metadata": {},
     "output_type": "execute_result"
    }
   ],
   "source": [
    "X_train.shape, X_test.shape"
   ]
  },
  {
   "cell_type": "markdown",
   "metadata": {},
   "source": [
    "## Load Embedding Vectors"
   ]
  },
  {
   "cell_type": "code",
   "execution_count": 12,
   "metadata": {},
   "outputs": [
    {
     "name": "stdout",
     "output_type": "stream",
     "text": [
      "CPU times: user 5min 49s, sys: 16.6 s, total: 6min 6s\n",
      "Wall time: 6min 12s\n"
     ]
    }
   ],
   "source": [
    "%%time\n",
    "# WARNING: Time consuming\n",
    "word_to_index, index_to_word, word_to_vec_map = utils.read_emb_vecs('/Volumes/Yu-HD/encoder/ri-3gram-400-tsv/vocab.tsv', '/Volumes/Yu-HD/encoder/ri-3gram-400-tsv/vectors.tsv')"
   ]
  },
  {
   "cell_type": "markdown",
   "metadata": {},
   "source": [
    "The word embedding vector is implemented based on paper below"
   ]
  },
  {
   "cell_type": "markdown",
   "metadata": {},
   "source": [
    "@article{KHATTAK2019100057,\n",
    "title = {A survey of word embeddings for clinical text},\n",
    "journal = {Journal of Biomedical Informatics: X},\n",
    "volume = {4},\n",
    "pages = {100057},\n",
    "year = {2019},\n",
    "issn = {2590-177X},\n",
    "doi = {https://doi.org/10.1016/j.yjbinx.2019.100057},\n",
    "url = {https://www.sciencedirect.com/science/article/pii/S2590177X19300563},\n",
    "author = {Faiza Khan Khattak and Serena Jeblee and ChloÃ© Pou-Prom and Mohamed Abdalla and Christopher Meaney and Frank Rudzicz},\n",
    "keywords = {Word embeddings, Clinical data, Natural language processing},\n",
    "abstract = {Representing words as numerical vectors based on the contexts in which they appear has become the de facto method of analyzing text with machine learning. In this paper, we provide a guide for training these representations on clinical text data, using a survey of relevant research. Specifically, we discuss different types of word representations, clinical text corpora, available pre-trained clinical word vector embeddings, intrinsic and extrinsic evaluation, applications, and limitations of these approaches. This work can be used as a blueprint for clinicians and healthcare workers who may want to incorporate clinical text features in their own models and applications.}\n",
    "}"
   ]
  },
  {
   "cell_type": "code",
   "execution_count": 13,
   "metadata": {},
   "outputs": [],
   "source": [
    "# Constants\n",
    "CLASSES=len(set(medra['LLT']))\n",
    "WINDOWS_Size=6"
   ]
  },
  {
   "cell_type": "markdown",
   "metadata": {},
   "source": [
    "### Count potential spelling errors or words cannot be found in the embeddings"
   ]
  },
  {
   "cell_type": "code",
   "execution_count": 14,
   "metadata": {},
   "outputs": [],
   "source": [
    "cnt = 0\n",
    "for record in X_ls:\n",
    "    for i in record[0:WINDOWS_Size]:\n",
    "        if i not in word_to_vec_map:\n",
    "            cnt += 1"
   ]
  },
  {
   "cell_type": "code",
   "execution_count": 15,
   "metadata": {
    "scrolled": true
   },
   "outputs": [
    {
     "name": "stdout",
     "output_type": "stream",
     "text": [
      "There are 7752 number of individual training words NOT found in the word embedding vectors\n"
     ]
    }
   ],
   "source": [
    "print(\"There are \" + str(cnt) + \" number of individual training words NOT found in the word embedding vectors\" )"
   ]
  },
  {
   "cell_type": "code",
   "execution_count": 16,
   "metadata": {},
   "outputs": [
    {
     "name": "stdout",
     "output_type": "stream",
     "text": [
      "CPU times: user 17min 26s, sys: 1.39 s, total: 17min 27s\n",
      "Wall time: 17min 28s\n"
     ]
    }
   ],
   "source": [
    "%%time\n",
    "# WARNING: Time consuming cell\n",
    "from spellchecker import SpellChecker \n",
    "spell = SpellChecker()\n",
    "for record in X_ls:\n",
    "    for i in record[0:WINDOWS_Size]:\n",
    "        if i not in word_to_vec_map:\n",
    "            idx = record.index(i)\n",
    "            record[idx] = spell.correction(i)\n",
    "            \n",
    "for record in X_testls:\n",
    "    for i in record[0:WINDOWS_Size]:\n",
    "        if i not in word_to_vec_map:\n",
    "            idx = record.index(i)\n",
    "            record[idx] = spell.correction(i)"
   ]
  },
  {
   "cell_type": "code",
   "execution_count": 17,
   "metadata": {},
   "outputs": [],
   "source": [
    "cnt2 = 0\n",
    "for record in X_ls:\n",
    "    for i in record[0:WINDOWS_Size]:\n",
    "        if i not in word_to_vec_map:\n",
    "#             print(i)\n",
    "            cnt2 += 1"
   ]
  },
  {
   "cell_type": "code",
   "execution_count": 18,
   "metadata": {
    "scrolled": true
   },
   "outputs": [
    {
     "name": "stdout",
     "output_type": "stream",
     "text": [
      "There are 5501 number of individual training words NOT found after spell correction and other corrections\n"
     ]
    }
   ],
   "source": [
    "print(\"There are \" + str(cnt2) + \" number of individual training words NOT found after spell correction and other corrections\" )"
   ]
  },
  {
   "cell_type": "markdown",
   "metadata": {},
   "source": [
    "## Encode and Decode"
   ]
  },
  {
   "cell_type": "code",
   "execution_count": 19,
   "metadata": {},
   "outputs": [],
   "source": [
    "import os\n",
    "import pickle\n",
    "import numpy as np\n",
    "import pandas as pd\n",
    "np.random.seed(1234)\n",
    "import matplotlib.pyplot as plt"
   ]
  },
  {
   "cell_type": "code",
   "execution_count": null,
   "metadata": {},
   "outputs": [],
   "source": [
    "# This block of codes is designed for first time construt encoder and decoder\n",
    "# please note the dictionary order is random, which means model and decoder should be 1-1.\n",
    "\n",
    "\n",
    "# encoder = {}\n",
    "# for i, pt in enumerate(set(medra['LLT'])):\n",
    "#     encoder.update({pt: i})\n",
    "#     i = i + 1\n",
    "# decoder = dict([(pt, i) for i, pt in encoder.items()])\n",
    "\n",
    "# outfile = open(os.path.join('data', 'lltcoder.pkl'),'wb')\n",
    "# pickle.dump(encoder,outfile)\n",
    "# outfile.close()\n",
    "# outfile = open(os.path.join('data', 'lltdecoder.pkl'),'wb')\n",
    "# pickle.dump(decoder,outfile)\n",
    "# outfile.close()"
   ]
  },
  {
   "cell_type": "code",
   "execution_count": 20,
   "metadata": {},
   "outputs": [
    {
     "data": {
      "text/plain": [
       "'/Volumes/Yu-HD/Encoder/ENCODER_ML'"
      ]
     },
     "execution_count": 20,
     "metadata": {},
     "output_type": "execute_result"
    }
   ],
   "source": [
    "pwd"
   ]
  },
  {
   "cell_type": "code",
   "execution_count": 22,
   "metadata": {},
   "outputs": [],
   "source": [
    "encoder = pickle.load( open( \"/Volumes/Yu-HD/Encoder/ENCODER_ML/data/lltcoder.pkl\", \"rb\" ) )\n",
    "decoder = pickle.load( open( \"/Volumes/Yu-HD/Encoder/ENCODER_ML/data/lltdecoder.pkl\", \"rb\" ) )"
   ]
  },
  {
   "cell_type": "markdown",
   "metadata": {},
   "source": [
    "The following lines of code are designed to test if there are any train/test not in the target meddra version. Even though, using different version to train the model, it not makes sense to includes every version in the output since the output is version specific."
   ]
  },
  {
   "cell_type": "code",
   "execution_count": 23,
   "metadata": {},
   "outputs": [
    {
     "name": "stdout",
     "output_type": "stream",
     "text": [
      "extra in test:  []\n"
     ]
    }
   ],
   "source": [
    "print(\"extra in test: \",[i for i in set(Y_test.tolist()) if i not in set(medra['LLT'].tolist())])"
   ]
  },
  {
   "cell_type": "code",
   "execution_count": 24,
   "metadata": {},
   "outputs": [],
   "source": [
    "# Warning: This cell takes long time\n",
    "# print(\"extra in train: \",[i for i in set(Y_train.tolist()) if i not in set(medra['LLT'].tolist())])"
   ]
  },
  {
   "cell_type": "code",
   "execution_count": 25,
   "metadata": {},
   "outputs": [],
   "source": [
    "y_train =np.array([[encoder[i]] for i in Y_train])\n",
    "y_test = np.array([[encoder[i]] for i in Y_test])"
   ]
  },
  {
   "cell_type": "code",
   "execution_count": 26,
   "metadata": {
    "scrolled": true
   },
   "outputs": [
    {
     "data": {
      "text/plain": [
       "31"
      ]
     },
     "execution_count": 26,
     "metadata": {},
     "output_type": "execute_result"
    }
   ],
   "source": [
    "N=len(max(X_ls,key=len))\n",
    "N"
   ]
  },
  {
   "cell_type": "code",
   "execution_count": 27,
   "metadata": {
    "scrolled": true
   },
   "outputs": [
    {
     "data": {
      "text/plain": [
       "((30031,), (30031, 1), (2612,), (2612, 1))"
      ]
     },
     "execution_count": 27,
     "metadata": {},
     "output_type": "execute_result"
    }
   ],
   "source": [
    "X_train.shape, y_train.shape, X_test.shape, y_test.shape"
   ]
  },
  {
   "cell_type": "markdown",
   "metadata": {},
   "source": [
    "## Embeddings"
   ]
  },
  {
   "cell_type": "code",
   "execution_count": 28,
   "metadata": {},
   "outputs": [],
   "source": [
    "def emdlayer(window, textlst, dim):\n",
    "    '''generate embedding layer\n",
    "    random normal distribution from 0 to 0.01.\n",
    "    '''\n",
    "    v_tmp=[np.array([word_to_vec_map[i] \n",
    "                     if i in word_to_vec_map \n",
    "                     else (np.random.randn(dim,)*10000).astype('float32') for i in record[0:window]])\n",
    "           for record in textlst]\n",
    "    \n",
    "\n",
    "    vec = []\n",
    "    \n",
    "    for i in range(len(textlst)):\n",
    "        x1 = (np.random.randn(window-v_tmp[i].shape[0], dim)*10000).astype('float32')\n",
    "        x2 = v_tmp[i]\n",
    "        x = np.concatenate((x1,x2), axis=0)\n",
    "        vec.append(x)\n",
    "    \n",
    "    vec = np.array(vec)\n",
    "#     vec = np.array([np.concatenate((v_tmp[i],\n",
    "#                                     (np.random.randn(window-v_tmp[i].shape[0], dim)*10000).astype('float32')),\n",
    "#                                    axis=0)\n",
    "#         for i in range(len(textlst))])\n",
    "    return vec"
   ]
  },
  {
   "cell_type": "code",
   "execution_count": 29,
   "metadata": {},
   "outputs": [],
   "source": [
    "# permutation of the input X_ls\n",
    "\n",
    "X_ls_perm = []\n",
    "\n",
    "for x in X_ls:\n",
    "    X_ls_perm.append(np.random.permutation(x).tolist())"
   ]
  },
  {
   "cell_type": "code",
   "execution_count": 30,
   "metadata": {},
   "outputs": [],
   "source": [
    "X_ls_all = [*X_ls, *X_ls_perm]"
   ]
  },
  {
   "cell_type": "code",
   "execution_count": 31,
   "metadata": {},
   "outputs": [],
   "source": [
    "y_train_all = np.concatenate((y_train, y_train), axis=0)"
   ]
  },
  {
   "cell_type": "code",
   "execution_count": 32,
   "metadata": {
    "scrolled": true
   },
   "outputs": [
    {
     "name": "stdout",
     "output_type": "stream",
     "text": [
      "CPU times: user 3.94 s, sys: 1.15 s, total: 5.09 s\n",
      "Wall time: 5.18 s\n"
     ]
    }
   ],
   "source": [
    "%%time\n",
    "# WARNING: Time consuming Cell\n",
    "# X=emdlayer(WINDOWS_Size, X_ls, 400)\n",
    "# X=emdlayer(WINDOWS_Size, X_ls_perm, 400)\n",
    "X=emdlayer(WINDOWS_Size, X_ls_all, 400)\n",
    "Xtest=emdlayer(WINDOWS_Size, X_testls, 400)\n",
    "INPUT_DIM = X.shape[2]\n",
    "SINGLE_ATTENTION_VECTOR = False"
   ]
  },
  {
   "cell_type": "markdown",
   "metadata": {},
   "source": [
    "## Model"
   ]
  },
  {
   "cell_type": "code",
   "execution_count": 33,
   "metadata": {},
   "outputs": [
    {
     "data": {
      "text/plain": [
       "((60062, 6, 400), (30031, 1), (2612, 6, 400), (2612, 1))"
      ]
     },
     "execution_count": 33,
     "metadata": {},
     "output_type": "execute_result"
    }
   ],
   "source": [
    "X.shape, y_train.shape, Xtest.shape, y_test.shape"
   ]
  },
  {
   "cell_type": "code",
   "execution_count": 35,
   "metadata": {},
   "outputs": [],
   "source": [
    "import keras.backend as K\n",
    "import numpy as np\n",
    "from keras.layers import concatenate, Bidirectional, Dropout, MaxPooling1D, Conv1D\n",
    "from keras.layers.core import *\n",
    "from keras.layers import LSTM\n",
    "from keras.layers import *\n",
    "from keras.models import *\n",
    "from keras.optimizers import Adam, RMSprop\n",
    "from keras import regularizers\n",
    "from keras.callbacks import EarlyStopping, ModelCheckpoint, TensorBoard"
   ]
  },
  {
   "cell_type": "code",
   "execution_count": 36,
   "metadata": {},
   "outputs": [],
   "source": [
    "callbacks=utils.callback_()\n",
    "filename = str('./model.demo')\n",
    "checkpoint = ModelCheckpoint(filename, monitor='val_accuracy', save_best_only=True, mode='max')"
   ]
  },
  {
   "cell_type": "code",
   "execution_count": 37,
   "metadata": {},
   "outputs": [],
   "source": [
    "from keras.backend import manual_variable_initialization"
   ]
  },
  {
   "cell_type": "code",
   "execution_count": 38,
   "metadata": {},
   "outputs": [],
   "source": [
    "manual_variable_initialization(True)"
   ]
  },
  {
   "cell_type": "code",
   "execution_count": 39,
   "metadata": {},
   "outputs": [],
   "source": [
    "def get_activations(model, inputs, print_shape_only=False, layer_name=None):\n",
    "\n",
    "    print('----- activations -----')\n",
    "    activations = []\n",
    "    inp = model.input\n",
    "    if layer_name is None:\n",
    "        outputs = [layer.output for layer in model.layers]\n",
    "    else:\n",
    "        outputs = [layer.output for layer in model.layers if layer.name == layer_name]  # all layer outputs\n",
    "    funcs = [K.function([inp] + [K.learning_phase()], [out]) for out in outputs]  # evaluation functions\n",
    "    layer_outputs = [func([inputs, 1.])[0] for func in funcs]\n",
    "    for layer_activations in layer_outputs:\n",
    "        activations.append(layer_activations)\n",
    "        if print_shape_only:\n",
    "            print(layer_activations.shape)\n",
    "        else:\n",
    "            print(layer_activations)\n",
    "    return activations\n",
    "\n",
    "def attention_3d_block(inputs):\n",
    "#     inputs.shape = (batch_size, time_steps, input_dim)\n",
    "    input_dim = int(inputs.shape[2])\n",
    "    a = Permute((2, 1))(inputs)\n",
    "    a = Reshape((input_dim, WINDOWS_Size))(a) # this line is not useful. It's just to know which dimension is what.\n",
    "    a = Dense(WINDOWS_Size, activation='softmax')(a)\n",
    "    if SINGLE_ATTENTION_VECTOR:\n",
    "        a = Lambda(lambda x: K.mean(x, axis=1), name='dim_reduction')(a)\n",
    "        a = RepeatVector(input_dim)(a)\n",
    "    a_probs = Permute((2, 1), name='attention_vec')(a)\n",
    "    \n",
    "    output_attention_mul = concatenate([inputs, a_probs], name='attention_mul')\n",
    "    return output_attention_mul\n",
    "\n",
    "\n",
    "\n",
    "def model_attention_applied_after_lstm():\n",
    "    inputs = Input(shape=(WINDOWS_Size, INPUT_DIM,))\n",
    "    drop=Dropout(0.5)(inputs)\n",
    "    lstm_units1 = 128\n",
    "    lstm_out, state_h, state_c = LSTM(lstm_units1, return_sequences=True, return_state=True, recurrent_regularizer=regularizers.l2(0.01))(drop)\n",
    "    encoder_states = [state_h, state_c]\n",
    "    decoder_out = LSTM(lstm_units1, return_sequences=True, recurrent_regularizer=regularizers.l2(0.01))(lstm_out, initial_state = encoder_states)\n",
    "    attention_mul = attention_3d_block(decoder_out)\n",
    "    attention_mul = Flatten()(attention_mul)\n",
    "    output = Dense(CLASSES, activation='softmax')(attention_mul)\n",
    "    model = Model(inputs=inputs, outputs=output)\n",
    "    return model\n"
   ]
  },
  {
   "cell_type": "code",
   "execution_count": 40,
   "metadata": {
    "scrolled": false
   },
   "outputs": [
    {
     "name": "stdout",
     "output_type": "stream",
     "text": [
      "Model: \"model\"\n",
      "__________________________________________________________________________________________________\n",
      "Layer (type)                    Output Shape         Param #     Connected to                     \n",
      "==================================================================================================\n",
      "input_1 (InputLayer)            [(None, 6, 400)]     0                                            \n",
      "__________________________________________________________________________________________________\n",
      "dropout (Dropout)               (None, 6, 400)       0           input_1[0][0]                    \n",
      "__________________________________________________________________________________________________\n",
      "lstm (LSTM)                     [(None, 6, 128), (No 270848      dropout[0][0]                    \n",
      "__________________________________________________________________________________________________\n",
      "lstm_1 (LSTM)                   (None, 6, 128)       131584      lstm[0][0]                       \n",
      "                                                                 lstm[0][1]                       \n",
      "                                                                 lstm[0][2]                       \n",
      "__________________________________________________________________________________________________\n",
      "permute (Permute)               (None, 128, 6)       0           lstm_1[0][0]                     \n",
      "__________________________________________________________________________________________________\n",
      "reshape (Reshape)               (None, 128, 6)       0           permute[0][0]                    \n",
      "__________________________________________________________________________________________________\n",
      "dense (Dense)                   (None, 128, 6)       42          reshape[0][0]                    \n",
      "__________________________________________________________________________________________________\n",
      "attention_vec (Permute)         (None, 6, 128)       0           dense[0][0]                      \n",
      "__________________________________________________________________________________________________\n",
      "attention_mul (Concatenate)     (None, 6, 256)       0           lstm_1[0][0]                     \n",
      "                                                                 attention_vec[0][0]              \n",
      "__________________________________________________________________________________________________\n",
      "flatten (Flatten)               (None, 1536)         0           attention_mul[0][0]              \n",
      "__________________________________________________________________________________________________\n",
      "dense_1 (Dense)                 (None, 79719)        122528103   flatten[0][0]                    \n",
      "==================================================================================================\n",
      "Total params: 122,930,577\n",
      "Trainable params: 122,930,577\n",
      "Non-trainable params: 0\n",
      "__________________________________________________________________________________________________\n",
      "Epoch 1/20\n",
      "470/470 [==============================] - 538s 1s/step - loss: 9.6909 - accuracy: 0.0178 - val_loss: 8.4875 - val_accuracy: 0.0911\n"
     ]
    },
    {
     "name": "stderr",
     "output_type": "stream",
     "text": [
      "WARNING:absl:Found untraced functions such as lstm_cell_layer_call_and_return_conditional_losses, lstm_cell_layer_call_fn, lstm_cell_1_layer_call_and_return_conditional_losses, lstm_cell_1_layer_call_fn, lstm_cell_layer_call_fn while saving (showing 5 of 10). These functions will not be directly callable after loading.\n"
     ]
    },
    {
     "name": "stdout",
     "output_type": "stream",
     "text": [
      "INFO:tensorflow:Assets written to: ./model.demo/assets\n"
     ]
    },
    {
     "name": "stderr",
     "output_type": "stream",
     "text": [
      "INFO:tensorflow:Assets written to: ./model.demo/assets\n"
     ]
    },
    {
     "name": "stdout",
     "output_type": "stream",
     "text": [
      "Epoch 2/20\n",
      "470/470 [==============================] - 522s 1s/step - loss: 7.8343 - accuracy: 0.0880 - val_loss: 7.6051 - val_accuracy: 0.1711\n"
     ]
    },
    {
     "name": "stderr",
     "output_type": "stream",
     "text": [
      "WARNING:absl:Found untraced functions such as lstm_cell_layer_call_and_return_conditional_losses, lstm_cell_layer_call_fn, lstm_cell_1_layer_call_and_return_conditional_losses, lstm_cell_1_layer_call_fn, lstm_cell_layer_call_fn while saving (showing 5 of 10). These functions will not be directly callable after loading.\n"
     ]
    },
    {
     "name": "stdout",
     "output_type": "stream",
     "text": [
      "INFO:tensorflow:Assets written to: ./model.demo/assets\n"
     ]
    },
    {
     "name": "stderr",
     "output_type": "stream",
     "text": [
      "INFO:tensorflow:Assets written to: ./model.demo/assets\n"
     ]
    },
    {
     "name": "stdout",
     "output_type": "stream",
     "text": [
      "Epoch 3/20\n",
      "470/470 [==============================] - 523s 1s/step - loss: 6.9420 - accuracy: 0.1515 - val_loss: 7.1547 - val_accuracy: 0.2121\n"
     ]
    },
    {
     "name": "stderr",
     "output_type": "stream",
     "text": [
      "WARNING:absl:Found untraced functions such as lstm_cell_layer_call_and_return_conditional_losses, lstm_cell_layer_call_fn, lstm_cell_1_layer_call_and_return_conditional_losses, lstm_cell_1_layer_call_fn, lstm_cell_layer_call_fn while saving (showing 5 of 10). These functions will not be directly callable after loading.\n"
     ]
    },
    {
     "name": "stdout",
     "output_type": "stream",
     "text": [
      "INFO:tensorflow:Assets written to: ./model.demo/assets\n"
     ]
    },
    {
     "name": "stderr",
     "output_type": "stream",
     "text": [
      "INFO:tensorflow:Assets written to: ./model.demo/assets\n"
     ]
    },
    {
     "name": "stdout",
     "output_type": "stream",
     "text": [
      "Epoch 4/20\n",
      "470/470 [==============================] - 521s 1s/step - loss: 6.3009 - accuracy: 0.1981 - val_loss: 6.7548 - val_accuracy: 0.2270\n"
     ]
    },
    {
     "name": "stderr",
     "output_type": "stream",
     "text": [
      "WARNING:absl:Found untraced functions such as lstm_cell_layer_call_and_return_conditional_losses, lstm_cell_layer_call_fn, lstm_cell_1_layer_call_and_return_conditional_losses, lstm_cell_1_layer_call_fn, lstm_cell_layer_call_fn while saving (showing 5 of 10). These functions will not be directly callable after loading.\n"
     ]
    },
    {
     "name": "stdout",
     "output_type": "stream",
     "text": [
      "INFO:tensorflow:Assets written to: ./model.demo/assets\n"
     ]
    },
    {
     "name": "stderr",
     "output_type": "stream",
     "text": [
      "INFO:tensorflow:Assets written to: ./model.demo/assets\n"
     ]
    },
    {
     "name": "stdout",
     "output_type": "stream",
     "text": [
      "Epoch 5/20\n",
      "470/470 [==============================] - 519s 1s/step - loss: 5.6732 - accuracy: 0.2430 - val_loss: 6.3850 - val_accuracy: 0.2684\n"
     ]
    },
    {
     "name": "stderr",
     "output_type": "stream",
     "text": [
      "WARNING:absl:Found untraced functions such as lstm_cell_layer_call_and_return_conditional_losses, lstm_cell_layer_call_fn, lstm_cell_1_layer_call_and_return_conditional_losses, lstm_cell_1_layer_call_fn, lstm_cell_layer_call_fn while saving (showing 5 of 10). These functions will not be directly callable after loading.\n"
     ]
    },
    {
     "name": "stdout",
     "output_type": "stream",
     "text": [
      "INFO:tensorflow:Assets written to: ./model.demo/assets\n"
     ]
    },
    {
     "name": "stderr",
     "output_type": "stream",
     "text": [
      "INFO:tensorflow:Assets written to: ./model.demo/assets\n"
     ]
    },
    {
     "name": "stdout",
     "output_type": "stream",
     "text": [
      "Epoch 6/20\n",
      "470/470 [==============================] - 517s 1s/step - loss: 5.0600 - accuracy: 0.2877 - val_loss: 6.1426 - val_accuracy: 0.2910\n"
     ]
    },
    {
     "name": "stderr",
     "output_type": "stream",
     "text": [
      "WARNING:absl:Found untraced functions such as lstm_cell_layer_call_and_return_conditional_losses, lstm_cell_layer_call_fn, lstm_cell_1_layer_call_and_return_conditional_losses, lstm_cell_1_layer_call_fn, lstm_cell_layer_call_fn while saving (showing 5 of 10). These functions will not be directly callable after loading.\n"
     ]
    },
    {
     "name": "stdout",
     "output_type": "stream",
     "text": [
      "INFO:tensorflow:Assets written to: ./model.demo/assets\n"
     ]
    },
    {
     "name": "stderr",
     "output_type": "stream",
     "text": [
      "INFO:tensorflow:Assets written to: ./model.demo/assets\n"
     ]
    },
    {
     "name": "stdout",
     "output_type": "stream",
     "text": [
      "Epoch 7/20\n",
      "470/470 [==============================] - 519s 1s/step - loss: 4.5653 - accuracy: 0.3312 - val_loss: 5.9198 - val_accuracy: 0.3174\n"
     ]
    },
    {
     "name": "stderr",
     "output_type": "stream",
     "text": [
      "WARNING:absl:Found untraced functions such as lstm_cell_layer_call_and_return_conditional_losses, lstm_cell_layer_call_fn, lstm_cell_1_layer_call_and_return_conditional_losses, lstm_cell_1_layer_call_fn, lstm_cell_layer_call_fn while saving (showing 5 of 10). These functions will not be directly callable after loading.\n"
     ]
    },
    {
     "name": "stdout",
     "output_type": "stream",
     "text": [
      "INFO:tensorflow:Assets written to: ./model.demo/assets\n"
     ]
    },
    {
     "name": "stderr",
     "output_type": "stream",
     "text": [
      "INFO:tensorflow:Assets written to: ./model.demo/assets\n"
     ]
    },
    {
     "name": "stdout",
     "output_type": "stream",
     "text": [
      "Epoch 8/20\n",
      "470/470 [==============================] - 516s 1s/step - loss: 4.1172 - accuracy: 0.3681 - val_loss: 5.7000 - val_accuracy: 0.3281\n"
     ]
    },
    {
     "name": "stderr",
     "output_type": "stream",
     "text": [
      "WARNING:absl:Found untraced functions such as lstm_cell_layer_call_and_return_conditional_losses, lstm_cell_layer_call_fn, lstm_cell_1_layer_call_and_return_conditional_losses, lstm_cell_1_layer_call_fn, lstm_cell_layer_call_fn while saving (showing 5 of 10). These functions will not be directly callable after loading.\n"
     ]
    },
    {
     "name": "stdout",
     "output_type": "stream",
     "text": [
      "INFO:tensorflow:Assets written to: ./model.demo/assets\n"
     ]
    },
    {
     "name": "stderr",
     "output_type": "stream",
     "text": [
      "INFO:tensorflow:Assets written to: ./model.demo/assets\n"
     ]
    },
    {
     "name": "stdout",
     "output_type": "stream",
     "text": [
      "Epoch 9/20\n",
      "470/470 [==============================] - 514s 1s/step - loss: 3.7461 - accuracy: 0.3985 - val_loss: 5.5868 - val_accuracy: 0.3434\n"
     ]
    },
    {
     "name": "stderr",
     "output_type": "stream",
     "text": [
      "WARNING:absl:Found untraced functions such as lstm_cell_layer_call_and_return_conditional_losses, lstm_cell_layer_call_fn, lstm_cell_1_layer_call_and_return_conditional_losses, lstm_cell_1_layer_call_fn, lstm_cell_layer_call_fn while saving (showing 5 of 10). These functions will not be directly callable after loading.\n"
     ]
    },
    {
     "name": "stdout",
     "output_type": "stream",
     "text": [
      "INFO:tensorflow:Assets written to: ./model.demo/assets\n"
     ]
    },
    {
     "name": "stderr",
     "output_type": "stream",
     "text": [
      "INFO:tensorflow:Assets written to: ./model.demo/assets\n"
     ]
    },
    {
     "name": "stdout",
     "output_type": "stream",
     "text": [
      "Epoch 10/20\n",
      "470/470 [==============================] - 517s 1s/step - loss: 3.3901 - accuracy: 0.4350 - val_loss: 5.4770 - val_accuracy: 0.3564\n"
     ]
    },
    {
     "name": "stderr",
     "output_type": "stream",
     "text": [
      "WARNING:absl:Found untraced functions such as lstm_cell_layer_call_and_return_conditional_losses, lstm_cell_layer_call_fn, lstm_cell_1_layer_call_and_return_conditional_losses, lstm_cell_1_layer_call_fn, lstm_cell_layer_call_fn while saving (showing 5 of 10). These functions will not be directly callable after loading.\n"
     ]
    },
    {
     "name": "stdout",
     "output_type": "stream",
     "text": [
      "INFO:tensorflow:Assets written to: ./model.demo/assets\n"
     ]
    },
    {
     "name": "stderr",
     "output_type": "stream",
     "text": [
      "INFO:tensorflow:Assets written to: ./model.demo/assets\n"
     ]
    },
    {
     "name": "stdout",
     "output_type": "stream",
     "text": [
      "Epoch 11/20\n",
      "470/470 [==============================] - 512s 1s/step - loss: 3.1183 - accuracy: 0.4625 - val_loss: 5.3336 - val_accuracy: 0.3694\n"
     ]
    },
    {
     "name": "stderr",
     "output_type": "stream",
     "text": [
      "WARNING:absl:Found untraced functions such as lstm_cell_layer_call_and_return_conditional_losses, lstm_cell_layer_call_fn, lstm_cell_1_layer_call_and_return_conditional_losses, lstm_cell_1_layer_call_fn, lstm_cell_layer_call_fn while saving (showing 5 of 10). These functions will not be directly callable after loading.\n"
     ]
    },
    {
     "name": "stdout",
     "output_type": "stream",
     "text": [
      "INFO:tensorflow:Assets written to: ./model.demo/assets\n"
     ]
    },
    {
     "name": "stderr",
     "output_type": "stream",
     "text": [
      "INFO:tensorflow:Assets written to: ./model.demo/assets\n"
     ]
    },
    {
     "name": "stdout",
     "output_type": "stream",
     "text": [
      "Epoch 12/20\n",
      "470/470 [==============================] - 515s 1s/step - loss: 2.8758 - accuracy: 0.4847 - val_loss: 5.2435 - val_accuracy: 0.3863\n"
     ]
    },
    {
     "name": "stderr",
     "output_type": "stream",
     "text": [
      "WARNING:absl:Found untraced functions such as lstm_cell_layer_call_and_return_conditional_losses, lstm_cell_layer_call_fn, lstm_cell_1_layer_call_and_return_conditional_losses, lstm_cell_1_layer_call_fn, lstm_cell_layer_call_fn while saving (showing 5 of 10). These functions will not be directly callable after loading.\n"
     ]
    },
    {
     "name": "stdout",
     "output_type": "stream",
     "text": [
      "INFO:tensorflow:Assets written to: ./model.demo/assets\n"
     ]
    },
    {
     "name": "stderr",
     "output_type": "stream",
     "text": [
      "INFO:tensorflow:Assets written to: ./model.demo/assets\n"
     ]
    },
    {
     "name": "stdout",
     "output_type": "stream",
     "text": [
      "Epoch 13/20\n",
      "470/470 [==============================] - 513s 1s/step - loss: 2.6606 - accuracy: 0.5103 - val_loss: 5.1905 - val_accuracy: 0.3832\n",
      "Epoch 14/20\n",
      "470/470 [==============================] - 515s 1s/step - loss: 2.4643 - accuracy: 0.5322 - val_loss: 5.2247 - val_accuracy: 0.3962\n"
     ]
    },
    {
     "name": "stderr",
     "output_type": "stream",
     "text": [
      "WARNING:absl:Found untraced functions such as lstm_cell_layer_call_and_return_conditional_losses, lstm_cell_layer_call_fn, lstm_cell_1_layer_call_and_return_conditional_losses, lstm_cell_1_layer_call_fn, lstm_cell_layer_call_fn while saving (showing 5 of 10). These functions will not be directly callable after loading.\n"
     ]
    },
    {
     "name": "stdout",
     "output_type": "stream",
     "text": [
      "INFO:tensorflow:Assets written to: ./model.demo/assets\n"
     ]
    },
    {
     "name": "stderr",
     "output_type": "stream",
     "text": [
      "INFO:tensorflow:Assets written to: ./model.demo/assets\n"
     ]
    },
    {
     "name": "stdout",
     "output_type": "stream",
     "text": [
      "Epoch 15/20\n",
      "470/470 [==============================] - 510s 1s/step - loss: 2.2971 - accuracy: 0.5559 - val_loss: 5.1908 - val_accuracy: 0.3940\n",
      "Epoch 16/20\n",
      "470/470 [==============================] - 530s 1s/step - loss: 2.1509 - accuracy: 0.5737 - val_loss: 5.1339 - val_accuracy: 0.4005\n"
     ]
    },
    {
     "name": "stderr",
     "output_type": "stream",
     "text": [
      "WARNING:absl:Found untraced functions such as lstm_cell_layer_call_and_return_conditional_losses, lstm_cell_layer_call_fn, lstm_cell_1_layer_call_and_return_conditional_losses, lstm_cell_1_layer_call_fn, lstm_cell_layer_call_fn while saving (showing 5 of 10). These functions will not be directly callable after loading.\n"
     ]
    },
    {
     "name": "stdout",
     "output_type": "stream",
     "text": [
      "INFO:tensorflow:Assets written to: ./model.demo/assets\n"
     ]
    },
    {
     "name": "stderr",
     "output_type": "stream",
     "text": [
      "INFO:tensorflow:Assets written to: ./model.demo/assets\n"
     ]
    },
    {
     "name": "stdout",
     "output_type": "stream",
     "text": [
      "Epoch 17/20\n",
      "470/470 [==============================] - 511s 1s/step - loss: 2.0261 - accuracy: 0.5894 - val_loss: 5.1628 - val_accuracy: 0.4058\n"
     ]
    },
    {
     "name": "stderr",
     "output_type": "stream",
     "text": [
      "WARNING:absl:Found untraced functions such as lstm_cell_layer_call_and_return_conditional_losses, lstm_cell_layer_call_fn, lstm_cell_1_layer_call_and_return_conditional_losses, lstm_cell_1_layer_call_fn, lstm_cell_layer_call_fn while saving (showing 5 of 10). These functions will not be directly callable after loading.\n"
     ]
    },
    {
     "name": "stdout",
     "output_type": "stream",
     "text": [
      "INFO:tensorflow:Assets written to: ./model.demo/assets\n"
     ]
    },
    {
     "name": "stderr",
     "output_type": "stream",
     "text": [
      "INFO:tensorflow:Assets written to: ./model.demo/assets\n"
     ]
    },
    {
     "name": "stdout",
     "output_type": "stream",
     "text": [
      "Epoch 18/20\n",
      "470/470 [==============================] - 511s 1s/step - loss: 1.9051 - accuracy: 0.6096 - val_loss: 5.1618 - val_accuracy: 0.4054\n",
      "Epoch 19/20\n",
      "470/470 [==============================] - 525s 1s/step - loss: 1.8072 - accuracy: 0.6214 - val_loss: 5.1364 - val_accuracy: 0.4177\n"
     ]
    },
    {
     "name": "stderr",
     "output_type": "stream",
     "text": [
      "WARNING:absl:Found untraced functions such as lstm_cell_layer_call_and_return_conditional_losses, lstm_cell_layer_call_fn, lstm_cell_1_layer_call_and_return_conditional_losses, lstm_cell_1_layer_call_fn, lstm_cell_layer_call_fn while saving (showing 5 of 10). These functions will not be directly callable after loading.\n"
     ]
    },
    {
     "name": "stdout",
     "output_type": "stream",
     "text": [
      "INFO:tensorflow:Assets written to: ./model.demo/assets\n"
     ]
    },
    {
     "name": "stderr",
     "output_type": "stream",
     "text": [
      "INFO:tensorflow:Assets written to: ./model.demo/assets\n"
     ]
    },
    {
     "name": "stdout",
     "output_type": "stream",
     "text": [
      "Epoch 20/20\n",
      "470/470 [==============================] - 513s 1s/step - loss: 1.7380 - accuracy: 0.6320 - val_loss: 5.1729 - val_accuracy: 0.4074\n",
      "CPU times: user 20h 13s, sys: 8h 6min 47s, total: 1d 4h 7min 1s\n",
      "Wall time: 2h 57min 46s\n"
     ]
    }
   ],
   "source": [
    "%%time\n",
    "# from keras import optimizers\n",
    "m0 = model_attention_applied_after_lstm()\n",
    "rms = RMSprop(lr=0.001)\n",
    "m0.compile(optimizer=rms, loss='sparse_categorical_crossentropy', metrics=['accuracy'])\n",
    "m0.summary()\n",
    "h0=m0.fit([X], y_train_all, epochs=20, batch_size=128, validation_data=([Xtest], y_test), callbacks=[checkpoint])"
   ]
  },
  {
   "cell_type": "markdown",
   "metadata": {},
   "source": [
    "The model stops converging after 16-17 epoch, the demo parameter to tune here is the units in lstm cell.  The the model becomes overfit. "
   ]
  },
  {
   "cell_type": "code",
   "execution_count": 41,
   "metadata": {},
   "outputs": [
    {
     "data": {
      "text/plain": [
       "array([[1, 0, 0, ..., 0, 0, 0],\n",
       "       [0, 0, 0, ..., 0, 0, 0],\n",
       "       [0, 0, 1, ..., 0, 0, 0],\n",
       "       ...,\n",
       "       [0, 0, 0, ..., 1, 0, 0],\n",
       "       [0, 0, 0, ..., 0, 0, 0],\n",
       "       [0, 0, 0, ..., 0, 0, 0]])"
      ]
     },
     "execution_count": 41,
     "metadata": {},
     "output_type": "execute_result"
    }
   ],
   "source": [
    "y_p = m0.predict(Xtest)\n",
    "\n",
    "####obtain LLT and decode in to the dictionary term \n",
    "y_pred = [decoder[i] for i in y_p.argmax(axis=1)]\n",
    "from sklearn.metrics import confusion_matrix\n",
    "confusion_matrix(Y_test.tolist(), y_pred)"
   ]
  },
  {
   "cell_type": "code",
   "execution_count": 47,
   "metadata": {},
   "outputs": [],
   "source": [
    "def plotresult(hist, title, outputfile):\n",
    "\tacc = hist.history['accuracy']\n",
    "\tval_acc = hist.history['val_accuracy']\n",
    "\n",
    "\tepochs = len(acc)\n",
    "\tplt.plot(range(epochs), acc, marker='.', label='acc')\n",
    "\tplt.plot(range(epochs), val_acc, marker='.', label='val_acc')\n",
    "\tplt.legend(loc='best')\n",
    "\tplt.grid()\n",
    "\tplt.xlabel('epoch')\n",
    "\tplt.ylabel('acc')\n",
    "\tplt.title('Training/Validation: '+ title)\n",
    "\tplt.savefig('../images/'+outputfile)\n",
    "\tplt.show()"
   ]
  },
  {
   "cell_type": "code",
   "execution_count": 48,
   "metadata": {},
   "outputs": [
    {
     "data": {
      "image/png": "[encoded data removed]",
      "text/plain": [
       "<Figure size 432x288 with 1 Axes>"
      ]
     },
     "metadata": {
      "needs_background": "light"
     },
     "output_type": "display_data"
    }
   ],
   "source": [
    "plotresult(h0, '400D + LSTM Enocder/Decoder + Attention', 'm0_model_attention_applied_after_lstm.png')"
   ]
  },
  {
   "cell_type": "code",
   "execution_count": 49,
   "metadata": {},
   "outputs": [],
   "source": [
    "data = {\"Test AE Term \":X_test, \"Predicted AE LLT\": y_pred, \"Actual AE LLT\": Y_test}\n",
    "s = pd.DataFrame(data)"
   ]
  },
  {
   "cell_type": "code",
   "execution_count": 50,
   "metadata": {},
   "outputs": [
    {
     "data": {
      "text/plain": [
       "1064"
      ]
     },
     "execution_count": 50,
     "metadata": {},
     "output_type": "execute_result"
    }
   ],
   "source": [
    "len(s.loc[s[\"Predicted AE LLT\"] == s[\"Actual AE LLT\"]])"
   ]
  },
  {
   "cell_type": "code",
   "execution_count": 51,
   "metadata": {},
   "outputs": [
    {
     "data": {
      "text/html": [
       "<div>\n",
       "<style scoped>\n",
       "    .dataframe tbody tr th:only-of-type {\n",
       "        vertical-align: middle;\n",
       "    }\n",
       "\n",
       "    .dataframe tbody tr th {\n",
       "        vertical-align: top;\n",
       "    }\n",
       "\n",
       "    .dataframe thead th {\n",
       "        text-align: right;\n",
       "    }\n",
       "</style>\n",
       "<table border=\"1\" class=\"dataframe\">\n",
       "  <thead>\n",
       "    <tr style=\"text-align: right;\">\n",
       "      <th></th>\n",
       "      <th>Test AE Term</th>\n",
       "      <th>Predicted AE LLT</th>\n",
       "      <th>Actual AE LLT</th>\n",
       "    </tr>\n",
       "  </thead>\n",
       "  <tbody>\n",
       "    <tr>\n",
       "      <th>6757</th>\n",
       "      <td>fracture t12</td>\n",
       "      <td>fractured vertebra</td>\n",
       "      <td>fractured vertebra</td>\n",
       "    </tr>\n",
       "    <tr>\n",
       "      <th>369</th>\n",
       "      <td>chronic right leg swelling</td>\n",
       "      <td>swelling legs</td>\n",
       "      <td>swelling legs</td>\n",
       "    </tr>\n",
       "    <tr>\n",
       "      <th>3876</th>\n",
       "      <td>infection cyst r cheek</td>\n",
       "      <td>cyst</td>\n",
       "      <td>cyst</td>\n",
       "    </tr>\n",
       "    <tr>\n",
       "      <th>29822</th>\n",
       "      <td>vision blurry</td>\n",
       "      <td>blurry vision</td>\n",
       "      <td>blurry vision</td>\n",
       "    </tr>\n",
       "    <tr>\n",
       "      <th>19663</th>\n",
       "      <td>insopmia</td>\n",
       "      <td>insomnia</td>\n",
       "      <td>insomnia</td>\n",
       "    </tr>\n",
       "    <tr>\n",
       "      <th>...</th>\n",
       "      <td>...</td>\n",
       "      <td>...</td>\n",
       "      <td>...</td>\n",
       "    </tr>\n",
       "    <tr>\n",
       "      <th>19519</th>\n",
       "      <td>excessive sweating</td>\n",
       "      <td>excess sweating</td>\n",
       "      <td>excess sweating</td>\n",
       "    </tr>\n",
       "    <tr>\n",
       "      <th>7488</th>\n",
       "      <td>increase weight</td>\n",
       "      <td>weight increase</td>\n",
       "      <td>weight increase</td>\n",
       "    </tr>\n",
       "    <tr>\n",
       "      <th>9287</th>\n",
       "      <td>pain toe</td>\n",
       "      <td>pain toe</td>\n",
       "      <td>pain toe</td>\n",
       "    </tr>\n",
       "    <tr>\n",
       "      <th>15353</th>\n",
       "      <td>ache left side chest wall</td>\n",
       "      <td>chest wall pain</td>\n",
       "      <td>chest wall pain</td>\n",
       "    </tr>\n",
       "    <tr>\n",
       "      <th>28952</th>\n",
       "      <td>proteinuria 30</td>\n",
       "      <td>proteinuria</td>\n",
       "      <td>proteinuria</td>\n",
       "    </tr>\n",
       "  </tbody>\n",
       "</table>\n",
       "<p>1064 rows × 3 columns</p>\n",
       "</div>"
      ],
      "text/plain": [
       "                    Test AE Term     Predicted AE LLT       Actual AE LLT\n",
       "6757                 fracture t12  fractured vertebra  fractured vertebra\n",
       "369    chronic right leg swelling       swelling legs       swelling legs\n",
       "3876       infection cyst r cheek                cyst                cyst\n",
       "29822               vision blurry       blurry vision       blurry vision\n",
       "19663                    insopmia            insomnia            insomnia\n",
       "...                           ...                 ...                 ...\n",
       "19519          excessive sweating     excess sweating     excess sweating\n",
       "7488              increase weight     weight increase     weight increase\n",
       "9287                     pain toe            pain toe            pain toe\n",
       "15353   ache left side chest wall     chest wall pain     chest wall pain\n",
       "28952              proteinuria 30         proteinuria         proteinuria\n",
       "\n",
       "[1064 rows x 3 columns]"
      ]
     },
     "execution_count": 51,
     "metadata": {},
     "output_type": "execute_result"
    }
   ],
   "source": [
    "s.loc[s[\"Predicted AE LLT\"] == s[\"Actual AE LLT\"]]"
   ]
  },
  {
   "cell_type": "code",
   "execution_count": 52,
   "metadata": {},
   "outputs": [
    {
     "data": {
      "text/html": [
       "<div>\n",
       "<style scoped>\n",
       "    .dataframe tbody tr th:only-of-type {\n",
       "        vertical-align: middle;\n",
       "    }\n",
       "\n",
       "    .dataframe tbody tr th {\n",
       "        vertical-align: top;\n",
       "    }\n",
       "\n",
       "    .dataframe thead th {\n",
       "        text-align: right;\n",
       "    }\n",
       "</style>\n",
       "<table border=\"1\" class=\"dataframe\">\n",
       "  <thead>\n",
       "    <tr style=\"text-align: right;\">\n",
       "      <th></th>\n",
       "      <th>Test AE Term</th>\n",
       "      <th>Predicted AE LLT</th>\n",
       "      <th>Actual AE LLT</th>\n",
       "    </tr>\n",
       "  </thead>\n",
       "  <tbody>\n",
       "    <tr>\n",
       "      <th>19076</th>\n",
       "      <td>neonatal enteral feeding intollerance</td>\n",
       "      <td>feeding intolerance</td>\n",
       "      <td>enteral feeding intolerance</td>\n",
       "    </tr>\n",
       "    <tr>\n",
       "      <th>27702</th>\n",
       "      <td>internal iliac vein right left</td>\n",
       "      <td>iliac vein thrombosis</td>\n",
       "      <td>vein disorder</td>\n",
       "    </tr>\n",
       "    <tr>\n",
       "      <th>30389</th>\n",
       "      <td>chronic hypertrophy pansinusitis</td>\n",
       "      <td>knee arthritis</td>\n",
       "      <td>chronic sinusitis</td>\n",
       "    </tr>\n",
       "    <tr>\n",
       "      <th>573</th>\n",
       "      <td>atrial arrhythmia</td>\n",
       "      <td>arrhythmia</td>\n",
       "      <td>atrial arrhythmia</td>\n",
       "    </tr>\n",
       "    <tr>\n",
       "      <th>8094</th>\n",
       "      <td>left groin sensation mass swelling</td>\n",
       "      <td>ankle swelling</td>\n",
       "      <td>groin swelling</td>\n",
       "    </tr>\n",
       "    <tr>\n",
       "      <th>...</th>\n",
       "      <td>...</td>\n",
       "      <td>...</td>\n",
       "      <td>...</td>\n",
       "    </tr>\n",
       "    <tr>\n",
       "      <th>28925</th>\n",
       "      <td>pressure sore</td>\n",
       "      <td>canker sore lip</td>\n",
       "      <td>pressure sore</td>\n",
       "    </tr>\n",
       "    <tr>\n",
       "      <th>20831</th>\n",
       "      <td>deep venous thrombosis lower left limb</td>\n",
       "      <td>deep vein thrombosis leg</td>\n",
       "      <td>left deep vein thrombosis</td>\n",
       "    </tr>\n",
       "    <tr>\n",
       "      <th>23721</th>\n",
       "      <td>chronic pain syndrome grade 2</td>\n",
       "      <td>catheter site pain</td>\n",
       "      <td>chronic pain</td>\n",
       "    </tr>\n",
       "    <tr>\n",
       "      <th>19505</th>\n",
       "      <td>exacerbation anxiety secondary depression</td>\n",
       "      <td>anxiety aggravated</td>\n",
       "      <td>exacerbation anxiety</td>\n",
       "    </tr>\n",
       "    <tr>\n",
       "      <th>1719</th>\n",
       "      <td>gaster pain</td>\n",
       "      <td>pain lower extremities</td>\n",
       "      <td>gastric pain</td>\n",
       "    </tr>\n",
       "  </tbody>\n",
       "</table>\n",
       "<p>1548 rows × 3 columns</p>\n",
       "</div>"
      ],
      "text/plain": [
       "                                   Test AE Term           Predicted AE LLT  \\\n",
       "19076      neonatal enteral feeding intollerance       feeding intolerance   \n",
       "27702             internal iliac vein right left     iliac vein thrombosis   \n",
       "30389           chronic hypertrophy pansinusitis            knee arthritis   \n",
       "573                            atrial arrhythmia                arrhythmia   \n",
       "8094          left groin sensation mass swelling            ankle swelling   \n",
       "...                                          ...                       ...   \n",
       "28925                              pressure sore           canker sore lip   \n",
       "20831     deep venous thrombosis lower left limb  deep vein thrombosis leg   \n",
       "23721              chronic pain syndrome grade 2        catheter site pain   \n",
       "19505  exacerbation anxiety secondary depression        anxiety aggravated   \n",
       "1719                                 gaster pain    pain lower extremities   \n",
       "\n",
       "                     Actual AE LLT  \n",
       "19076  enteral feeding intolerance  \n",
       "27702                vein disorder  \n",
       "30389            chronic sinusitis  \n",
       "573              atrial arrhythmia  \n",
       "8094                groin swelling  \n",
       "...                            ...  \n",
       "28925                pressure sore  \n",
       "20831    left deep vein thrombosis  \n",
       "23721                 chronic pain  \n",
       "19505         exacerbation anxiety  \n",
       "1719                  gastric pain  \n",
       "\n",
       "[1548 rows x 3 columns]"
      ]
     },
     "execution_count": 52,
     "metadata": {},
     "output_type": "execute_result"
    }
   ],
   "source": [
    "# pd.set_option('display.max_rows', None)\n",
    "s.loc[s[\"Predicted AE LLT\"] != s[\"Actual AE LLT\"]]"
   ]
  },
  {
   "cell_type": "code",
   "execution_count": 53,
   "metadata": {},
   "outputs": [],
   "source": [
    "# del m0\n",
    "# m0.save('my_model-2.h5')"
   ]
  },
  {
   "cell_type": "code",
   "execution_count": 54,
   "metadata": {},
   "outputs": [],
   "source": [
    "K.clear_session()"
   ]
  },
  {
   "cell_type": "markdown",
   "metadata": {},
   "source": [
    "## Testing data "
   ]
  },
  {
   "cell_type": "code",
   "execution_count": 55,
   "metadata": {},
   "outputs": [],
   "source": [
    "from keras.models import load_model\n",
    "# np.random.seed(1234)"
   ]
  },
  {
   "cell_type": "code",
   "execution_count": 56,
   "metadata": {},
   "outputs": [],
   "source": [
    "# import tensorflow as tf\n",
    "# from tensorflow import keras\n",
    "model = load_model('./model.demo')"
   ]
  },
  {
   "cell_type": "code",
   "execution_count": 58,
   "metadata": {},
   "outputs": [],
   "source": [
    "import pandas as pd\n",
    "test = pd.read_excel('/Volumes/Yu-HD/Encoder/ENCODER_ML/data/onco-AE_coding_MedDRA v22.0_KL Review_2.xlsx')"
   ]
  },
  {
   "cell_type": "code",
   "execution_count": 59,
   "metadata": {
    "scrolled": true
   },
   "outputs": [],
   "source": [
    "test = test[['Verbatim Term', 'LLT Name']]"
   ]
  },
  {
   "cell_type": "code",
   "execution_count": 60,
   "metadata": {},
   "outputs": [],
   "source": [
    "import re\n",
    "import os\n",
    "import nltk\n",
    "from nltk.corpus import stopwords\n",
    "from nltk.stem import SnowballStemmer\n",
    "from nltk.stem import WordNetLemmatizer\n",
    "def string_processor(x, grammer):\n",
    "        \"\"\"\n",
    "        Method to preprocess the string, includes following process:\n",
    "        1. lower case\n",
    "        2. remove punctuation\n",
    "        3. remove stop words\n",
    "        4. stem or lemmatize the word: i.e. for grammatical reasons, d documents are going to use different forms of a\n",
    "        word, such as organize, organizes, and organizing.\n",
    "        For the difference between lemmatization and stemming,\n",
    "        https://blog.bitext.com/what-is-the-difference-between-stemming-and-lemmatization/\n",
    "        :param grammer: \"stem\" or \"lemma\"\n",
    "        :return: return a cleaned version of string (particularly the term in raw datasets, i.e. AETERM in AE)\n",
    "        \"\"\"\n",
    "        try:\n",
    "            nltk.data.find('corpora/stopwords')\n",
    "            nltk.data.find('wordnet')\n",
    "        except LookupError:\n",
    "            # If it does not exist, the program downloads the stopwords.\n",
    "            nltk.download('stopwords', quiet=True)\n",
    "            nltk.download(\"wordnet\", quiet=True)\n",
    "            nltk.download('stopwords', download_dir='nltk_packages', quiet=True)\n",
    "            \n",
    "        sw = stopwords.words('english')\n",
    "        # Stemming\n",
    "        stemmer = SnowballStemmer(\"english\")\n",
    "        # lemmatization\n",
    "        lemma = WordNetLemmatizer()\n",
    "\n",
    "        if grammer == 'stem':\n",
    "            x_cln = ' '.join([stemmer.stem(i) for i in re.sub(r'[^a-zA-Z]',' ', x).split() if i not in sw]).lower()\n",
    "        elif grammer == 'lemma':\n",
    "            x_cln = ' '.join([lemma.lemmatize(i) for i in re.sub(r'[^a-zA-Z0-9-]',' ', x).split() if i not in sw]).lower()\n",
    "        elif grammer == \"medra\":\n",
    "            x_cln = ' '.join([i.strip() for i in re.sub(r'[^a-zA-Z0-9-]',' ', x).split() if i not in sw]).lower() # keep the hyphen and numbers for the medra dictionary\n",
    "            # x_cln = ' '.join([i.strip() for i in re.sub(r'[^a-zA-Z]',' ', x).split() if i not in sw]).lower())\n",
    "        else:\n",
    "            # x_cln = ' '.join([i.strip() for i in re.sub(r'[^\\w\\s]+',' ', x).split() if i not in sw]).lower()\n",
    "            x_cln = ' '.join([i.strip() for i in re.sub(r'[^a-zA-Z0-9-]',' ', x).split() if i not in sw]).lower()\n",
    "        return x_cln\n"
   ]
  },
  {
   "cell_type": "code",
   "execution_count": 61,
   "metadata": {},
   "outputs": [],
   "source": [
    "test['Verbatim Term'] = test['Verbatim Term'].apply(lambda x: string_processor(x, \"lemma\"))\n",
    "test['LLT Name'] = test['LLT Name'].apply(lambda x: string_processor(x, None))"
   ]
  },
  {
   "cell_type": "code",
   "execution_count": 62,
   "metadata": {},
   "outputs": [],
   "source": [
    "no_dup = test.drop_duplicates()"
   ]
  },
  {
   "cell_type": "code",
   "execution_count": 63,
   "metadata": {},
   "outputs": [
    {
     "data": {
      "text/plain": [
       "1313"
      ]
     },
     "execution_count": 63,
     "metadata": {},
     "output_type": "execute_result"
    }
   ],
   "source": [
    "len(test)"
   ]
  },
  {
   "cell_type": "code",
   "execution_count": 64,
   "metadata": {},
   "outputs": [
    {
     "data": {
      "text/plain": [
       "1291"
      ]
     },
     "execution_count": 64,
     "metadata": {},
     "output_type": "execute_result"
    }
   ],
   "source": [
    "len(no_dup)"
   ]
  },
  {
   "cell_type": "code",
   "execution_count": 65,
   "metadata": {},
   "outputs": [
    {
     "data": {
      "text/plain": [
       "1313"
      ]
     },
     "execution_count": 65,
     "metadata": {},
     "output_type": "execute_result"
    }
   ],
   "source": [
    "X_testls_new = [w.split() for w in test['Verbatim Term']]\n",
    "len(X_testls_new)"
   ]
  },
  {
   "cell_type": "code",
   "execution_count": 66,
   "metadata": {},
   "outputs": [],
   "source": [
    "WINDOWS_Size=6"
   ]
  },
  {
   "cell_type": "code",
   "execution_count": 67,
   "metadata": {},
   "outputs": [
    {
     "data": {
      "text/plain": [
       "304"
      ]
     },
     "execution_count": 67,
     "metadata": {},
     "output_type": "execute_result"
    }
   ],
   "source": [
    "cnt3 = 0\n",
    "WINDOWS_Size=6\n",
    "for record in X_testls_new:\n",
    "    for i in record[0:WINDOWS_Size]:\n",
    "        if i not in word_to_vec_map:\n",
    "            cnt3 += 1\n",
    "cnt3"
   ]
  },
  {
   "cell_type": "code",
   "execution_count": 68,
   "metadata": {},
   "outputs": [],
   "source": [
    "Xtest_new=emdlayer(WINDOWS_Size, X_testls_new, 400)"
   ]
  },
  {
   "cell_type": "code",
   "execution_count": 69,
   "metadata": {},
   "outputs": [],
   "source": [
    "y_p_test = model.predict(Xtest_new)"
   ]
  },
  {
   "cell_type": "code",
   "execution_count": 70,
   "metadata": {
    "scrolled": true
   },
   "outputs": [],
   "source": [
    "y_pred_test = [decoder[i] for i in y_p_test.argmax(axis=1)]\n",
    "data0 = {\"Test AE Term \": test['Verbatim Term'], \"Predicted AE LLT\": y_pred_test, \"Actual AE LLT\": test['LLT Name']}\n",
    "s_0 = pd.DataFrame(data0)\n",
    "s0 = s_0.loc[s_0[\"Predicted AE LLT\"] == s_0[\"Actual AE LLT\"]]"
   ]
  },
  {
   "cell_type": "code",
   "execution_count": 71,
   "metadata": {},
   "outputs": [
    {
     "data": {
      "text/html": [
       "<div>\n",
       "<style scoped>\n",
       "    .dataframe tbody tr th:only-of-type {\n",
       "        vertical-align: middle;\n",
       "    }\n",
       "\n",
       "    .dataframe tbody tr th {\n",
       "        vertical-align: top;\n",
       "    }\n",
       "\n",
       "    .dataframe thead th {\n",
       "        text-align: right;\n",
       "    }\n",
       "</style>\n",
       "<table border=\"1\" class=\"dataframe\">\n",
       "  <thead>\n",
       "    <tr style=\"text-align: right;\">\n",
       "      <th></th>\n",
       "      <th>Test AE Term</th>\n",
       "      <th>Predicted AE LLT</th>\n",
       "      <th>Actual AE LLT</th>\n",
       "    </tr>\n",
       "  </thead>\n",
       "  <tbody>\n",
       "    <tr>\n",
       "      <th>2</th>\n",
       "      <td>bilateral le localized edema</td>\n",
       "      <td>edema lower extremities</td>\n",
       "      <td>edema lower extremities</td>\n",
       "    </tr>\n",
       "    <tr>\n",
       "      <th>11</th>\n",
       "      <td>abdominal bloating</td>\n",
       "      <td>abdominal bloating</td>\n",
       "      <td>abdominal bloating</td>\n",
       "    </tr>\n",
       "    <tr>\n",
       "      <th>12</th>\n",
       "      <td>abdominal discomfort</td>\n",
       "      <td>abdominal discomfort</td>\n",
       "      <td>abdominal discomfort</td>\n",
       "    </tr>\n",
       "    <tr>\n",
       "      <th>15</th>\n",
       "      <td>abdominal distension discomfort due to constip...</td>\n",
       "      <td>constipation</td>\n",
       "      <td>constipation</td>\n",
       "    </tr>\n",
       "    <tr>\n",
       "      <th>16</th>\n",
       "      <td>abdominal distention</td>\n",
       "      <td>abdominal distension</td>\n",
       "      <td>abdominal distension</td>\n",
       "    </tr>\n",
       "    <tr>\n",
       "      <th>...</th>\n",
       "      <td>...</td>\n",
       "      <td>...</td>\n",
       "      <td>...</td>\n",
       "    </tr>\n",
       "    <tr>\n",
       "      <th>1288</th>\n",
       "      <td>other diplopia</td>\n",
       "      <td>diplopia</td>\n",
       "      <td>diplopia</td>\n",
       "    </tr>\n",
       "    <tr>\n",
       "      <th>1296</th>\n",
       "      <td>pneumonia</td>\n",
       "      <td>pneumonia</td>\n",
       "      <td>pneumonia</td>\n",
       "    </tr>\n",
       "    <tr>\n",
       "      <th>1307</th>\n",
       "      <td>thromboembolic event pulmonary embolism</td>\n",
       "      <td>pulmonary embolism</td>\n",
       "      <td>pulmonary embolism</td>\n",
       "    </tr>\n",
       "    <tr>\n",
       "      <th>1311</th>\n",
       "      <td>vomiting intermittent</td>\n",
       "      <td>vomiting</td>\n",
       "      <td>vomiting</td>\n",
       "    </tr>\n",
       "    <tr>\n",
       "      <th>1312</th>\n",
       "      <td>wbc decreased</td>\n",
       "      <td>wbc decreased</td>\n",
       "      <td>wbc decreased</td>\n",
       "    </tr>\n",
       "  </tbody>\n",
       "</table>\n",
       "<p>534 rows × 3 columns</p>\n",
       "</div>"
      ],
      "text/plain": [
       "                                          Test AE Term   \\\n",
       "2                          bilateral le localized edema   \n",
       "11                                   abdominal bloating   \n",
       "12                                 abdominal discomfort   \n",
       "15    abdominal distension discomfort due to constip...   \n",
       "16                                 abdominal distention   \n",
       "...                                                 ...   \n",
       "1288                                     other diplopia   \n",
       "1296                                          pneumonia   \n",
       "1307            thromboembolic event pulmonary embolism   \n",
       "1311                              vomiting intermittent   \n",
       "1312                                      wbc decreased   \n",
       "\n",
       "             Predicted AE LLT            Actual AE LLT  \n",
       "2     edema lower extremities  edema lower extremities  \n",
       "11         abdominal bloating       abdominal bloating  \n",
       "12       abdominal discomfort     abdominal discomfort  \n",
       "15               constipation             constipation  \n",
       "16       abdominal distension     abdominal distension  \n",
       "...                       ...                      ...  \n",
       "1288                 diplopia                 diplopia  \n",
       "1296                pneumonia                pneumonia  \n",
       "1307       pulmonary embolism       pulmonary embolism  \n",
       "1311                 vomiting                 vomiting  \n",
       "1312            wbc decreased            wbc decreased  \n",
       "\n",
       "[534 rows x 3 columns]"
      ]
     },
     "execution_count": 71,
     "metadata": {},
     "output_type": "execute_result"
    }
   ],
   "source": [
    "s0"
   ]
  },
  {
   "cell_type": "code",
   "execution_count": 72,
   "metadata": {},
   "outputs": [
    {
     "data": {
      "text/plain": [
       "534"
      ]
     },
     "execution_count": 72,
     "metadata": {},
     "output_type": "execute_result"
    }
   ],
   "source": [
    "len(s0)"
   ]
  },
  {
   "cell_type": "code",
   "execution_count": 73,
   "metadata": {},
   "outputs": [
    {
     "data": {
      "text/plain": [
       "0.4067022086824067"
      ]
     },
     "execution_count": 73,
     "metadata": {},
     "output_type": "execute_result"
    }
   ],
   "source": [
    "acc0 = len(s0)/len(test)\n",
    "acc0"
   ]
  },
  {
   "cell_type": "code",
   "execution_count": null,
   "metadata": {},
   "outputs": [],
   "source": []
  }
 ],
 "metadata": {
  "kernelspec": {
   "display_name": "Python 3",
   "language": "python",
   "name": "python3"
  },
  "language_info": {
   "codemirror_mode": {
    "name": "ipython",
    "version": 3
   },
   "file_extension": ".py",
   "mimetype": "text/x-python",
   "name": "python",
   "nbconvert_exporter": "python",
   "pygments_lexer": "ipython3",
   "version": "3.6.13"
  }
 },
 "nbformat": 4,
 "nbformat_minor": 4
}
